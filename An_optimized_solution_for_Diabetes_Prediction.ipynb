{
  "nbformat": 4,
  "nbformat_minor": 0,
  "metadata": {
    "colab": {
      "name": "An optimized solution for Diabetes Prediction",
      "provenance": [],
      "collapsed_sections": []
    },
    "kernelspec": {
      "name": "python3",
      "display_name": "Python 3"
    },
    "language_info": {
      "name": "python"
    }
  },
  "cells": [
    {
      "cell_type": "code",
      "execution_count": 89,
      "metadata": {
        "colab": {
          "base_uri": "https://localhost:8080/",
          "height": 206
        },
        "id": "Bjghm3ln7euA",
        "outputId": "e295f414-2c6d-4634-d5b5-b707edc09cd3"
      },
      "outputs": [
        {
          "output_type": "execute_result",
          "data": {
            "text/plain": [
              "   Pregnancies  Glucose  BloodPressure  SkinThickness  Insulin   BMI  \\\n",
              "0            6      148             72             35        0  33.6   \n",
              "1            1       85             66             29        0  26.6   \n",
              "2            8      183             64              0        0  23.3   \n",
              "3            1       89             66             23       94  28.1   \n",
              "4            0      137             40             35      168  43.1   \n",
              "\n",
              "   DiabetesPedigreeFunction  Age  Outcome  \n",
              "0                     0.627   50        1  \n",
              "1                     0.351   31        0  \n",
              "2                     0.672   32        1  \n",
              "3                     0.167   21        0  \n",
              "4                     2.288   33        1  "
            ],
            "text/html": [
              "\n",
              "  <div id=\"df-c0c18fa7-3fb3-4d79-b91a-40822c11125a\">\n",
              "    <div class=\"colab-df-container\">\n",
              "      <div>\n",
              "<style scoped>\n",
              "    .dataframe tbody tr th:only-of-type {\n",
              "        vertical-align: middle;\n",
              "    }\n",
              "\n",
              "    .dataframe tbody tr th {\n",
              "        vertical-align: top;\n",
              "    }\n",
              "\n",
              "    .dataframe thead th {\n",
              "        text-align: right;\n",
              "    }\n",
              "</style>\n",
              "<table border=\"1\" class=\"dataframe\">\n",
              "  <thead>\n",
              "    <tr style=\"text-align: right;\">\n",
              "      <th></th>\n",
              "      <th>Pregnancies</th>\n",
              "      <th>Glucose</th>\n",
              "      <th>BloodPressure</th>\n",
              "      <th>SkinThickness</th>\n",
              "      <th>Insulin</th>\n",
              "      <th>BMI</th>\n",
              "      <th>DiabetesPedigreeFunction</th>\n",
              "      <th>Age</th>\n",
              "      <th>Outcome</th>\n",
              "    </tr>\n",
              "  </thead>\n",
              "  <tbody>\n",
              "    <tr>\n",
              "      <th>0</th>\n",
              "      <td>6</td>\n",
              "      <td>148</td>\n",
              "      <td>72</td>\n",
              "      <td>35</td>\n",
              "      <td>0</td>\n",
              "      <td>33.6</td>\n",
              "      <td>0.627</td>\n",
              "      <td>50</td>\n",
              "      <td>1</td>\n",
              "    </tr>\n",
              "    <tr>\n",
              "      <th>1</th>\n",
              "      <td>1</td>\n",
              "      <td>85</td>\n",
              "      <td>66</td>\n",
              "      <td>29</td>\n",
              "      <td>0</td>\n",
              "      <td>26.6</td>\n",
              "      <td>0.351</td>\n",
              "      <td>31</td>\n",
              "      <td>0</td>\n",
              "    </tr>\n",
              "    <tr>\n",
              "      <th>2</th>\n",
              "      <td>8</td>\n",
              "      <td>183</td>\n",
              "      <td>64</td>\n",
              "      <td>0</td>\n",
              "      <td>0</td>\n",
              "      <td>23.3</td>\n",
              "      <td>0.672</td>\n",
              "      <td>32</td>\n",
              "      <td>1</td>\n",
              "    </tr>\n",
              "    <tr>\n",
              "      <th>3</th>\n",
              "      <td>1</td>\n",
              "      <td>89</td>\n",
              "      <td>66</td>\n",
              "      <td>23</td>\n",
              "      <td>94</td>\n",
              "      <td>28.1</td>\n",
              "      <td>0.167</td>\n",
              "      <td>21</td>\n",
              "      <td>0</td>\n",
              "    </tr>\n",
              "    <tr>\n",
              "      <th>4</th>\n",
              "      <td>0</td>\n",
              "      <td>137</td>\n",
              "      <td>40</td>\n",
              "      <td>35</td>\n",
              "      <td>168</td>\n",
              "      <td>43.1</td>\n",
              "      <td>2.288</td>\n",
              "      <td>33</td>\n",
              "      <td>1</td>\n",
              "    </tr>\n",
              "  </tbody>\n",
              "</table>\n",
              "</div>\n",
              "      <button class=\"colab-df-convert\" onclick=\"convertToInteractive('df-c0c18fa7-3fb3-4d79-b91a-40822c11125a')\"\n",
              "              title=\"Convert this dataframe to an interactive table.\"\n",
              "              style=\"display:none;\">\n",
              "        \n",
              "  <svg xmlns=\"http://www.w3.org/2000/svg\" height=\"24px\"viewBox=\"0 0 24 24\"\n",
              "       width=\"24px\">\n",
              "    <path d=\"M0 0h24v24H0V0z\" fill=\"none\"/>\n",
              "    <path d=\"M18.56 5.44l.94 2.06.94-2.06 2.06-.94-2.06-.94-.94-2.06-.94 2.06-2.06.94zm-11 1L8.5 8.5l.94-2.06 2.06-.94-2.06-.94L8.5 2.5l-.94 2.06-2.06.94zm10 10l.94 2.06.94-2.06 2.06-.94-2.06-.94-.94-2.06-.94 2.06-2.06.94z\"/><path d=\"M17.41 7.96l-1.37-1.37c-.4-.4-.92-.59-1.43-.59-.52 0-1.04.2-1.43.59L10.3 9.45l-7.72 7.72c-.78.78-.78 2.05 0 2.83L4 21.41c.39.39.9.59 1.41.59.51 0 1.02-.2 1.41-.59l7.78-7.78 2.81-2.81c.8-.78.8-2.07 0-2.86zM5.41 20L4 18.59l7.72-7.72 1.47 1.35L5.41 20z\"/>\n",
              "  </svg>\n",
              "      </button>\n",
              "      \n",
              "  <style>\n",
              "    .colab-df-container {\n",
              "      display:flex;\n",
              "      flex-wrap:wrap;\n",
              "      gap: 12px;\n",
              "    }\n",
              "\n",
              "    .colab-df-convert {\n",
              "      background-color: #E8F0FE;\n",
              "      border: none;\n",
              "      border-radius: 50%;\n",
              "      cursor: pointer;\n",
              "      display: none;\n",
              "      fill: #1967D2;\n",
              "      height: 32px;\n",
              "      padding: 0 0 0 0;\n",
              "      width: 32px;\n",
              "    }\n",
              "\n",
              "    .colab-df-convert:hover {\n",
              "      background-color: #E2EBFA;\n",
              "      box-shadow: 0px 1px 2px rgba(60, 64, 67, 0.3), 0px 1px 3px 1px rgba(60, 64, 67, 0.15);\n",
              "      fill: #174EA6;\n",
              "    }\n",
              "\n",
              "    [theme=dark] .colab-df-convert {\n",
              "      background-color: #3B4455;\n",
              "      fill: #D2E3FC;\n",
              "    }\n",
              "\n",
              "    [theme=dark] .colab-df-convert:hover {\n",
              "      background-color: #434B5C;\n",
              "      box-shadow: 0px 1px 3px 1px rgba(0, 0, 0, 0.15);\n",
              "      filter: drop-shadow(0px 1px 2px rgba(0, 0, 0, 0.3));\n",
              "      fill: #FFFFFF;\n",
              "    }\n",
              "  </style>\n",
              "\n",
              "      <script>\n",
              "        const buttonEl =\n",
              "          document.querySelector('#df-c0c18fa7-3fb3-4d79-b91a-40822c11125a button.colab-df-convert');\n",
              "        buttonEl.style.display =\n",
              "          google.colab.kernel.accessAllowed ? 'block' : 'none';\n",
              "\n",
              "        async function convertToInteractive(key) {\n",
              "          const element = document.querySelector('#df-c0c18fa7-3fb3-4d79-b91a-40822c11125a');\n",
              "          const dataTable =\n",
              "            await google.colab.kernel.invokeFunction('convertToInteractive',\n",
              "                                                     [key], {});\n",
              "          if (!dataTable) return;\n",
              "\n",
              "          const docLinkHtml = 'Like what you see? Visit the ' +\n",
              "            '<a target=\"_blank\" href=https://colab.research.google.com/notebooks/data_table.ipynb>data table notebook</a>'\n",
              "            + ' to learn more about interactive tables.';\n",
              "          element.innerHTML = '';\n",
              "          dataTable['output_type'] = 'display_data';\n",
              "          await google.colab.output.renderOutput(dataTable, element);\n",
              "          const docLink = document.createElement('div');\n",
              "          docLink.innerHTML = docLinkHtml;\n",
              "          element.appendChild(docLink);\n",
              "        }\n",
              "      </script>\n",
              "    </div>\n",
              "  </div>\n",
              "  "
            ]
          },
          "metadata": {},
          "execution_count": 89
        }
      ],
      "source": [
        "import numpy as np\n",
        "import pandas as pd\n",
        "dataset=pd.read_csv('/content/diabetes.csv')\n",
        "dataset.head()"
      ]
    },
    {
      "cell_type": "code",
      "source": [
        "dataset.isnull().sum()"
      ],
      "metadata": {
        "colab": {
          "base_uri": "https://localhost:8080/"
        },
        "id": "CPZNKlbS8ARz",
        "outputId": "e6f74bfe-74a8-48eb-d651-96ac7d5a2e9b"
      },
      "execution_count": 90,
      "outputs": [
        {
          "output_type": "execute_result",
          "data": {
            "text/plain": [
              "Pregnancies                 0\n",
              "Glucose                     0\n",
              "BloodPressure               0\n",
              "SkinThickness               0\n",
              "Insulin                     0\n",
              "BMI                         0\n",
              "DiabetesPedigreeFunction    0\n",
              "Age                         0\n",
              "Outcome                     0\n",
              "dtype: int64"
            ]
          },
          "metadata": {},
          "execution_count": 90
        }
      ]
    },
    {
      "cell_type": "code",
      "source": [
        "x=dataset.iloc[:,:-1]\n",
        "y=dataset.iloc[:,-1]"
      ],
      "metadata": {
        "id": "R78Zz2Ui8QfX"
      },
      "execution_count": 91,
      "outputs": []
    },
    {
      "cell_type": "code",
      "source": [
        "from sklearn.model_selection import train_test_split\n",
        "x_train,x_test,y_train,y_test=train_test_split(x,y,test_size=0.1,random_state=0)"
      ],
      "metadata": {
        "id": "v-Nbi69_8iVD"
      },
      "execution_count": 92,
      "outputs": []
    },
    {
      "cell_type": "code",
      "source": [
        "from sklearn import tree\n",
        "import sys\n",
        "import matplotlib.pyplot as plt\n",
        "def pso(particles,iterations,dimensions,inertia):\n",
        "  max_d=40\n",
        "  min_d=10\n",
        "  max_f=1e-5\n",
        "  min_f=1e-8\n",
        "  max_id=1e-4\n",
        "  min_id=1e-1\n",
        "  max_l=0.5\n",
        "  min_l=0.1\n",
        "  x=np.random.rand(particles,1)*(max_d - min_d)+min_d\n",
        "  y=np.random.rand(particles,1)*(max_f - min_f)+min_f\n",
        "  z=np.random.rand(particles,1)*(max_id - min_id)+min_id\n",
        "  q=np.random.rand(particles,1)*(max_l - min_l)+min_l\n",
        "  c=np.concatenate((x,y,z,q),axis=1)\n",
        "  v=np.zeros((particles,dimensions))\n",
        "  c1=2\n",
        "  c2=2\n",
        "  p_best=np.zeros((particles,dimensions))\n",
        "  p_best_val=np.zeros(particles)+sys.maxsize\n",
        "  g_best=np.zeros(dimensions)\n",
        "  g_best_val=sys.maxsize\n",
        "  best_iter=np.zeros(iterations)\n",
        "  p_best_RGS=np.empty((particles),dtype=object)\n",
        "  g_best_RGS=sys.maxsize\n",
        "  #plot(c)\n",
        "  from sklearn.metrics import mean_squared_error\n",
        "  for i in range(iterations):\n",
        "    for j in range(particles):\n",
        "      rgs=tree.DecisionTreeClassifier(max_depth=c[j][0],max_features=c[j][1],min_impurity_decrease=c[j][2],\n",
        "                                     min_samples_leaf=c[j][3])\n",
        "      rgs.fit(x_train,y_train)\n",
        "      y_predict=rgs.predict(x_test)\n",
        "      mse=mean_squared_error(y_test,y_predict)\n",
        "\n",
        "      if(mse<p_best_val[j]):\n",
        "        p_best_val[j]=mse\n",
        "        p_best_RGS[j]=rgs\n",
        "        p_best[j]=c[j].copy()\n",
        "\n",
        "      aux=np.argmin(p_best_val)\n",
        "      if(p_best_val[aux] < g_best_val):\n",
        "        g_best_val=p_best_val[aux]\n",
        "        g_best=p_best[aux].copy()\n",
        "        g_best_RGS=p_best_RGS[aux]\n",
        "\n",
        "      rand1=np.random.random()\n",
        "      rand2=np.random.random()\n",
        "\n",
        "      w=inertia\n",
        "      \n",
        "      v[j]=w*v[j]+c1*(p_best[j]-c[j])*rand1+c2*(g_best-c[j])*rand2\n",
        "      c[j]=c[j]+v[j]\n",
        "\n",
        "      if(c[j][3] <min_l):\n",
        "        c[j][3]=min_l\n",
        "      if(c[j][3] >max_l):\n",
        "        c[j][3]=max_l\n",
        "      if(c[j][2] <min_id):\n",
        "        c[j][2]=min_id\n",
        "      if(c[j][2] >max_id):\n",
        "        c[j][2]=max_id\n",
        "      if(c[j][1]<min_f):\n",
        "        c[j][1]=min_f\n",
        "      if(c[j][1]>max_f):\n",
        "        c[j][1]=max_f\n",
        "      if(c[j][0]<min_d):\n",
        "        c[j][0]=min_d\n",
        "      if(c[j][0]>max_d):\n",
        "        c[j][0]=max_d\n",
        "      \n",
        "    best_iter[i]=g_best_val\n",
        "\n",
        "    print('best value iteration %d = %f\\n' %(i,g_best_val))\n",
        "\n",
        "  print('group best configuration found')\n",
        "  print(g_best)\n",
        "  print('\\n')\n",
        "  print('best classifier \\n')\n",
        "  print(g_best_RGS)\n",
        "  print('\\n')\n",
        "\n",
        "  t=range(iterations)\n",
        "  plt.plot(t,best_iter,label='Fitness Value')\n",
        "  plt.legend()\n",
        "  plt.show()\n",
        "  #plot(c)\n",
        "\n",
        "  predict_test=g_best_RGS.predict(x_test)\n",
        "  #print(color.BOLD + \"predictions with the population best value found:\\n\" + color.END)\n",
        "  evaluate(predict_test)"
      ],
      "metadata": {
        "id": "yx7rkg8y8scS"
      },
      "execution_count": 93,
      "outputs": []
    },
    {
      "cell_type": "code",
      "source": [
        "def evaluate(predictions):\n",
        "  from sklearn.metrics import accuracy_score\n",
        "  import statistics as st\n",
        "  predict_test=predictions\n",
        "\n",
        "  plt.plot(range(len(y_test)),y_test,label='Real')\n",
        "  plt.plot(range(len(predict_test)),predict_test,label='Predicted')\n",
        "  plt.legend()\n",
        "  plt.show()\n",
        "  \n",
        "  mse=accuracy_score(y_test,predict_test)\n",
        "  print(\"\\n\")\n",
        "  print(\"Accuracy: \\t %f \"%mse)\n",
        "  print(\"\\n\")\n",
        "  print('prediction average: \\t %f'%((predict_test.sum()/len(predict_test))))\n",
        "  print(\"\\n\")\n",
        "  print('prediction median:\\t %f' %(st.median(predict_test)))"
      ],
      "metadata": {
        "id": "AcGgeiTT9TDU"
      },
      "execution_count": 94,
      "outputs": []
    },
    {
      "cell_type": "code",
      "source": [
        "pso(120,20,4,1)"
      ],
      "metadata": {
        "colab": {
          "base_uri": "https://localhost:8080/",
          "height": 1000
        },
        "id": "NFLH0XGg9t6L",
        "outputId": "4a08f942-16d0-4a38-b124-51629532647d"
      },
      "execution_count": 95,
      "outputs": [
        {
          "output_type": "stream",
          "name": "stdout",
          "text": [
            "best value iteration 0 = 0.181818\n",
            "\n",
            "best value iteration 1 = 0.181818\n",
            "\n",
            "best value iteration 2 = 0.181818\n",
            "\n",
            "best value iteration 3 = 0.181818\n",
            "\n",
            "best value iteration 4 = 0.181818\n",
            "\n",
            "best value iteration 5 = 0.181818\n",
            "\n",
            "best value iteration 6 = 0.181818\n",
            "\n",
            "best value iteration 7 = 0.181818\n",
            "\n",
            "best value iteration 8 = 0.181818\n",
            "\n",
            "best value iteration 9 = 0.181818\n",
            "\n",
            "best value iteration 10 = 0.181818\n",
            "\n",
            "best value iteration 11 = 0.181818\n",
            "\n",
            "best value iteration 12 = 0.181818\n",
            "\n",
            "best value iteration 13 = 0.181818\n",
            "\n",
            "best value iteration 14 = 0.181818\n",
            "\n",
            "best value iteration 15 = 0.181818\n",
            "\n",
            "best value iteration 16 = 0.168831\n",
            "\n",
            "best value iteration 17 = 0.168831\n",
            "\n",
            "best value iteration 18 = 0.168831\n",
            "\n",
            "best value iteration 19 = 0.168831\n",
            "\n",
            "group best configuration found\n",
            "[1.64455070e+01 7.68693927e-06 1.00000000e-04 1.80893762e-01]\n",
            "\n",
            "\n",
            "best classifier \n",
            "\n",
            "DecisionTreeClassifier(max_depth=16.44550703729642,\n",
            "                       max_features=7.686939269961949e-06,\n",
            "                       min_impurity_decrease=0.0001,\n",
            "                       min_samples_leaf=0.18089376176646899)\n",
            "\n",
            "\n"
          ]
        },
        {
          "output_type": "display_data",
          "data": {
            "text/plain": [
              "<Figure size 432x288 with 1 Axes>"
            ],
            "image/png": "[encoded data removed]"
          },
          "metadata": {
            "needs_background": "light"
          }
        },
        {
          "output_type": "display_data",
          "data": {
            "text/plain": [
              "<Figure size 432x288 with 1 Axes>"
            ],
            "image/png": "[encoded data removed]"
          },
          "metadata": {
            "needs_background": "light"
          }
        },
        {
          "output_type": "stream",
          "name": "stdout",
          "text": [
            "\n",
            "\n",
            "Accuracy: \t 0.831169 \n",
            "\n",
            "\n",
            "prediction average: \t 0.246753\n",
            "\n",
            "\n",
            "prediction median:\t 0.000000\n"
          ]
        }
      ]
    },
    {
      "cell_type": "code",
      "source": [
        "classifier=tree.DecisionTreeClassifier(max_depth=16.44550703729642,\n",
        "                       max_features=7.686939269961949e-06,\n",
        "                       min_impurity_decrease=0.0001,\n",
        "                       min_samples_leaf=0.18089376176646899)\n",
        "classifier.fit(x_train,y_train)"
      ],
      "metadata": {
        "colab": {
          "base_uri": "https://localhost:8080/"
        },
        "id": "2dt7GZqv9zkK",
        "outputId": "81831282-7e5f-42b8-85fd-dcd9d1e40193"
      },
      "execution_count": 96,
      "outputs": [
        {
          "output_type": "execute_result",
          "data": {
            "text/plain": [
              "DecisionTreeClassifier(max_depth=16.44550703729642,\n",
              "                       max_features=7.686939269961949e-06,\n",
              "                       min_impurity_decrease=0.0001,\n",
              "                       min_samples_leaf=0.18089376176646899)"
            ]
          },
          "metadata": {},
          "execution_count": 96
        }
      ]
    },
    {
      "cell_type": "code",
      "source": [
        "prediction=classifier.predict(x_test)"
      ],
      "metadata": {
        "id": "nUi4Sm2V-TcT"
      },
      "execution_count": 97,
      "outputs": []
    },
    {
      "cell_type": "code",
      "source": [
        "from sklearn import metrics\n",
        "accuracy=metrics.accuracy_score(y_test,prediction)\n",
        "accuracy"
      ],
      "metadata": {
        "colab": {
          "base_uri": "https://localhost:8080/"
        },
        "id": "uRSAmT4W-Yyg",
        "outputId": "292753d6-a4f3-4d7c-cce1-d1e6f37f41f2"
      },
      "execution_count": 98,
      "outputs": [
        {
          "output_type": "execute_result",
          "data": {
            "text/plain": [
              "0.8181818181818182"
            ]
          },
          "metadata": {},
          "execution_count": 98
        }
      ]
    },
    {
      "cell_type": "code",
      "source": [
        "input=(5,166,72,19,175,22.9,0.56,51)\n",
        "input_as_numpy=np.asarray(input)\n",
        "input_reshape=input_as_numpy.reshape(1,-1)\n",
        "prediction=classifier.predict(input_reshape)\n",
        "print(prediction)\n",
        "if (prediction[0] == 0):\n",
        "  print(\" Patient has no diabetes\")\n",
        "else:\n",
        "  print(\" Patient has diabetes\")"
      ],
      "metadata": {
        "colab": {
          "base_uri": "https://localhost:8080/"
        },
        "id": "qelBLv-H-hmK",
        "outputId": "0275229d-b75f-41c4-929c-f790bf6e66cf"
      },
      "execution_count": 99,
      "outputs": [
        {
          "output_type": "stream",
          "name": "stdout",
          "text": [
            "[1]\n",
            " Patient has diabetes\n"
          ]
        },
        {
          "output_type": "stream",
          "name": "stderr",
          "text": [
            "/usr/local/lib/python3.7/dist-packages/sklearn/base.py:451: UserWarning: X does not have valid feature names, but DecisionTreeClassifier was fitted with feature names\n",
            "  \"X does not have valid feature names, but\"\n"
          ]
        }
      ]
    },
    {
      "cell_type": "code",
      "source": [
        "import pickle\n",
        "filename='trained_model.sav'\n",
        "pickle.dump(classifier,open('trained_model.sav','wb'))"
      ],
      "metadata": {
        "id": "XKe1RBmuGtS7"
      },
      "execution_count": 100,
      "outputs": []
    },
    {
      "cell_type": "code",
      "source": [
        "load_model=pickle.load(open('trained_model.sav','rb'))\n"
      ],
      "metadata": {
        "id": "DCjmlwhQX4iS"
      },
      "execution_count": 101,
      "outputs": []
    },
    {
      "cell_type": "code",
      "source": [
        "input=(5,166,72,19,175,22.9,0.56,51)\n",
        "input_as_numpy=np.asarray(input)\n",
        "input_reshape=input_as_numpy.reshape(1,-1)\n",
        "prediction=load_model.predict(input_reshape)\n",
        "print(prediction)\n",
        "if (prediction[0] == 0):\n",
        "  print(\" Patient has no diabetes\")\n",
        "else:\n",
        "  print(\" Patient has diabetes\")"
      ],
      "metadata": {
        "colab": {
          "base_uri": "https://localhost:8080/"
        },
        "id": "7v1RvrPCX-V9",
        "outputId": "1b6557ea-8e01-42d5-8b39-2e0887c12a8a"
      },
      "execution_count": 102,
      "outputs": [
        {
          "output_type": "stream",
          "name": "stdout",
          "text": [
            "[1]\n",
            " Patient has diabetes\n"
          ]
        },
        {
          "output_type": "stream",
          "name": "stderr",
          "text": [
            "/usr/local/lib/python3.7/dist-packages/sklearn/base.py:451: UserWarning: X does not have valid feature names, but DecisionTreeClassifier was fitted with feature names\n",
            "  \"X does not have valid feature names, but\"\n"
          ]
        }
      ]
    },
    {
      "cell_type": "code",
      "source": [
        ""
      ],
      "metadata": {
        "id": "UPUeMadUYB-L"
      },
      "execution_count": null,
      "outputs": []
    }
  ]
}